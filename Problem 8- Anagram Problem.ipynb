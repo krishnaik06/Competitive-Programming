{
 "cells": [
  {
   "cell_type": "code",
   "execution_count": null,
   "metadata": {},
   "outputs": [],
   "source": [
    "str1=\"Elbow\"\n",
    "str2=\"below\"\n",
    "anagram(str1,str2)\n",
    "### You also have to handle spaces and capital letters"
   ]
  },
  {
   "cell_type": "markdown",
   "metadata": {},
   "source": [
    "### Problem 8-Anagram Check Analysis- Competitive Programming\n",
    "An anagram is a word or phrase formed by rearranging the letters of a different word or phrase, typically using all the original letters exactly once. For example, the word anagram itself can be rearranged into nag a ram, also the word binary into brainy and the word adobe into abode\n",
    "\n",
    "Examples\n",
    "\n",
    "- below = elbow\n",
    "- study = dusty\n",
    "- night = thing\n",
    "- act = cat\n",
    "- dessert = stressed\n",
    "- bad credit = debit card\n",
    "- gainly = laying\n",
    "- conversation = voice rants on\n",
    "- eleven plus two = twelve plus one\n"
   ]
  },
  {
   "cell_type": "code",
   "execution_count": 1,
   "metadata": {},
   "outputs": [],
   "source": [
    "### Check Whether 2 string is Anagram"
   ]
  },
  {
   "cell_type": "code",
   "execution_count": 1,
   "metadata": {},
   "outputs": [],
   "source": [
    "### Failed\n",
    "def check(str1, str2): \n",
    "    if(sorted(str1)== sorted(str2)): \n",
    "        print(\" strings are anagram.\")  \n",
    "    else: \n",
    "        print(\" strings aren't anagrams \")        \n"
   ]
  },
  {
   "cell_type": "code",
   "execution_count": 4,
   "metadata": {},
   "outputs": [
    {
     "name": "stdout",
     "output_type": "stream",
     "text": [
      " strings aren't anagrams \n"
     ]
    }
   ],
   "source": [
    "check(\"Study\",\"dusty\")"
   ]
  },
  {
   "cell_type": "code",
   "execution_count": 13,
   "metadata": {},
   "outputs": [],
   "source": [
    "### Failed\n",
    "str1 = \"eleven0 plus two\"\n",
    "str2 = \"twelve1 plus one\"\n",
    "\n",
    "def anagram(str1, str2):\n",
    "    str1 = str1.replace(\" \",\"\").lower()\n",
    "    str2 = str2.replace(\" \",\"\").lower()\n",
    "    if len(str1) == len(str2):\n",
    "        for i in str1:\n",
    "            if i in str2:\n",
    "                pass\n",
    "        return True\n",
    "    return False\n"
   ]
  },
  {
   "cell_type": "code",
   "execution_count": 14,
   "metadata": {},
   "outputs": [
    {
     "data": {
      "text/plain": [
       "True"
      ]
     },
     "execution_count": 14,
     "metadata": {},
     "output_type": "execute_result"
    }
   ],
   "source": [
    "anagram(str1,str2)"
   ]
  },
  {
   "cell_type": "code",
   "execution_count": 17,
   "metadata": {},
   "outputs": [
    {
     "name": "stdout",
     "output_type": "stream",
     "text": [
      "Enter the first stringtwelve plus one\n",
      "Enter the second stringeleven plus two\n",
      "Yes\n"
     ]
    }
   ],
   "source": [
    "def Anagram(str1,str2):\n",
    "    dict = {}\n",
    "    for i in range(len(str1)):\n",
    "        if ord(str1[i]) <= 122 and ord(str1[i])>=97:\n",
    "            if ord(str1[i])-32 not in dict:\n",
    "                dict[ord(str1[i])-32] = 1\n",
    "            else:\n",
    "                dict[ord(str1[i])-32] = dict[ord(str1[i])-32] + 1\n",
    "        else:\n",
    "            if ord(str1[i]) not in dict:\n",
    "                dict[ord(str1[i])] = 1\n",
    "            else:\n",
    "                dict[ord(str1[i])] = dict[ord(str1[i])] + 1\n",
    "\n",
    "    for i in range(len(str2)):\n",
    "        if ord(str2[i])<=122 and ord(str2[i])>=97:\n",
    "            if ord(str2[i])-32 in dict:\n",
    "                if dict[ord(str2[i])-32] != 0:\n",
    "                    dict[ord(str2[i])-32] = dict[ord(str2[i])-32] - 1\n",
    "                else:\n",
    "                    return 0\n",
    "            else:\n",
    "                return 0\n",
    "        else:\n",
    "            if ord(str2[i]) in dict:\n",
    "                if dict[ord(str2[i])] != 0:\n",
    "                    dict[ord(str2[i])] = dict[ord(str2[i])] - 1\n",
    "                else:\n",
    "                    return 0\n",
    "            else:\n",
    "                return 0\n",
    "\n",
    "    return 1\n",
    "\n",
    "\n",
    "\n",
    "str1 = input(\"Enter the first string\")\n",
    "str2 = input(\"Enter the second string\")\n",
    "if Anagram(str1,str2):\n",
    "    print(\"Yes\")\n",
    "else:\n",
    "    print(\"No\")\n",
    "\n",
    "\n",
    "\n"
   ]
  },
  {
   "cell_type": "code",
   "execution_count": 23,
   "metadata": {},
   "outputs": [],
   "source": [
    "### Final Solution\n",
    "def anagram(str1,str2):\n",
    "    group_letters={}\n",
    "    for i in str1:\n",
    "        if i in group_letters:\n",
    "            group_letters[i]+=1\n",
    "        else:\n",
    "            group_letters[i]=1\n",
    "    for i in str2:\n",
    "        if i in group_letters:\n",
    "            group_letters[i]-=1\n",
    "        else:\n",
    "            group_letters[i]=1\n",
    "    for j in group_letters:\n",
    "        if group_letters[j]!=0:\n",
    "            return False\n",
    "    return True"
   ]
  },
  {
   "cell_type": "code",
   "execution_count": 22,
   "metadata": {},
   "outputs": [
    {
     "name": "stdout",
     "output_type": "stream",
     "text": [
      "Enter the first string: Eleven plus two\n",
      "Enter the first string: twelve plus one\n",
      "The entered strings are anagram\n"
     ]
    }
   ],
   "source": [
    "string1=input(\"Enter the first string: \")\n",
    "string1=string1.replace(\" \",\"\").lower()\n",
    "string2=input(\"Enter the first string: \")\n",
    "string2=string2.replace(\" \",\"\").lower()\n",
    "var=anagram(string1,string2)\n",
    "if(var):\n",
    "    print(\"The entered strings are anagram\")\n",
    "else:\n",
    "    print(\"The entered strings are not anagram\")"
   ]
  },
  {
   "cell_type": "markdown",
   "metadata": {},
   "source": [
    "### Find all the anagrams from a list of words\n",
    "['cat', 'dog', 'tac', 'god', 'act']"
   ]
  },
  {
   "cell_type": "code",
   "execution_count": null,
   "metadata": {},
   "outputs": [],
   "source": []
  }
 ],
 "metadata": {
  "kernelspec": {
   "display_name": "Python 3",
   "language": "python",
   "name": "python3"
  },
  "language_info": {
   "codemirror_mode": {
    "name": "ipython",
    "version": 3
   },
   "file_extension": ".py",
   "mimetype": "text/x-python",
   "name": "python",
   "nbconvert_exporter": "python",
   "pygments_lexer": "ipython3",
   "version": "3.7.7"
  }
 },
 "nbformat": 4,
 "nbformat_minor": 4
}
